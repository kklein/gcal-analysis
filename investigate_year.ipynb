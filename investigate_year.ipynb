{
 "cells": [
  {
   "cell_type": "code",
   "execution_count": null,
   "metadata": {},
   "outputs": [],
   "source": [
    "import matplotlib.pyplot as plt\n",
    "import transform\n",
    "import request\n",
    "import datetime"
   ]
  },
  {
   "cell_type": "code",
   "execution_count": null,
   "metadata": {},
   "outputs": [],
   "source": [
    "start_date_2018 = datetime.datetime(2018, 1, 1).isoformat() + 'Z'\n",
    "stop_date_2018 = datetime.datetime(2018, 12, 31).isoformat() + 'Z'\n",
    "start_date_2019 = datetime.datetime(2019, 1, 1).isoformat() + 'Z'\n",
    "stop_date_2019 = datetime.datetime(2019, 12, 31).isoformat() + 'Z'\n",
    "start_date_2020 = datetime.datetime(2020, 1, 1).isoformat() + 'Z'\n",
    "stop_date_2020 = datetime.datetime.utcnow().isoformat() + 'Z'"
   ]
  },
  {
   "cell_type": "code",
   "execution_count": null,
   "metadata": {},
   "outputs": [],
   "source": [
    "df_2018 = transform.get_dataframe(request.get_filtered_events(\n",
    "    start_date_2018, stop_date_2018, \"summary\"))\n",
    "df_2019 = transform.get_dataframe(request.get_filtered_events(\n",
    "    start_date_2019, stop_date_2019, \"summary\"))\n",
    "df_2020 = transform.get_dataframe(request.get_filtered_events(\n",
    "    start_date_2020, stop_date_2020, \"summary\"))"
   ]
  },
  {
   "cell_type": "code",
   "execution_count": null,
   "metadata": {},
   "outputs": [],
   "source": [
    "df_2020"
   ]
  },
  {
   "cell_type": "markdown",
   "metadata": {},
   "source": [
    "Overall distance"
   ]
  },
  {
   "cell_type": "code",
   "execution_count": null,
   "metadata": {
    "scrolled": true
   },
   "outputs": [],
   "source": [
    "print(df_2020.sum()[\"distance\"])\n",
    "print(df_2019.sum()[\"distance\"])\n",
    "print(df_2018.sum()[\"distance\"])"
   ]
  },
  {
   "cell_type": "markdown",
   "metadata": {},
   "source": [
    "Average distance"
   ]
  },
  {
   "cell_type": "code",
   "execution_count": null,
   "metadata": {},
   "outputs": [],
   "source": [
    "print(df_2020.mean()[\"distance\"])\n",
    "print(df_2019.mean()[\"distance\"])\n",
    "print(df_2018.mean()[\"distance\"])"
   ]
  },
  {
   "cell_type": "markdown",
   "metadata": {},
   "source": [
    "Longest runs"
   ]
  },
  {
   "cell_type": "code",
   "execution_count": null,
   "metadata": {},
   "outputs": [],
   "source": [
    "df_2020.sort_values(by=[\"distance\"], ascending=False)[\"distance\"][:10]"
   ]
  },
  {
   "cell_type": "markdown",
   "metadata": {},
   "source": [
    "Daily performance"
   ]
  },
  {
   "cell_type": "code",
   "execution_count": null,
   "metadata": {},
   "outputs": [],
   "source": [
    "_, ax = plt.subplots()\n",
    "df_2020.plot.scatter(\"date\", \"distance\", ax=ax)"
   ]
  },
  {
   "cell_type": "markdown",
   "metadata": {},
   "source": [
    "Monthly performance"
   ]
  },
  {
   "cell_type": "code",
   "execution_count": null,
   "metadata": {
    "scrolled": true
   },
   "outputs": [],
   "source": [
    "df_2020.groupby(\"month\").sum()[\"distance\"]"
   ]
  },
  {
   "cell_type": "code",
   "execution_count": null,
   "metadata": {},
   "outputs": [],
   "source": [
    "_, ax = plt.subplots()\n",
    "df_2020.groupby([\"month\"], as_index=False)[\"distance\"].sum().plot(\n",
    "    x=\"month\", y=\"distance\", kind=\"scatter\", ax=ax, color=\"b\", label=\"2020\")\n",
    "df_2019.groupby([\"month\"], as_index=False)[\"distance\"].sum().plot(\n",
    "    x=\"month\", y=\"distance\", kind=\"scatter\", ax=ax, color=\"r\", label=\"2019\")\n",
    "df_2018.groupby([\"month\"], as_index=False)[\"distance\"].sum().plot(\n",
    "    x=\"month\", y=\"distance\", kind=\"scatter\", ax=ax, color=\"y\", label=\"2018\")\n",
    "ax.legend()\n",
    "ax.set_title(\"Monthly distance\")"
   ]
  },
  {
   "cell_type": "code",
   "execution_count": null,
   "metadata": {},
   "outputs": [],
   "source": [
    "_, ax = plt.subplots()\n",
    "df_2020.groupby([\"month\"], as_index=False)[\"distance\"].mean().plot(\n",
    "    x=\"month\", y=\"distance\", kind=\"scatter\", ax=ax, color=\"b\", label=\"2020\")\n",
    "df_2019.groupby([\"month\"], as_index=False)[\"distance\"].mean().plot(\n",
    "    x=\"month\", y=\"distance\", kind=\"scatter\", ax=ax, color=\"r\", label=\"2019\")\n",
    "df_2018.groupby([\"month\"], as_index=False)[\"distance\"].mean().plot(\n",
    "    x=\"month\", y=\"distance\", kind=\"scatter\", ax=ax, color=\"y\", label=\"2018\")\n",
    "ax.legend()\n",
    "ax.set_title(\"Monthly average distance\")"
   ]
  },
  {
   "cell_type": "markdown",
   "metadata": {},
   "source": [
    "Weekly performances"
   ]
  },
  {
   "cell_type": "code",
   "execution_count": null,
   "metadata": {},
   "outputs": [],
   "source": [
    "_, ax = plt.subplots()\n",
    "df_2020.groupby([\"week\"], as_index=False)[\"distance\"].sum().plot(x=\"week\", y=\"distance\", kind=\"scatter\", ax=ax)"
   ]
  },
  {
   "cell_type": "markdown",
   "metadata": {},
   "source": [
    "Longest duration between two runs"
   ]
  },
  {
   "cell_type": "code",
   "execution_count": null,
   "metadata": {},
   "outputs": [],
   "source": [
    "df_2020.sort_values(by=[\"date\"])\n",
    "t1 = df_2020[\"date\"][0]\n",
    "max_diff = t1 - t1\n",
    "max_diff_t = t1\n",
    "for index, row in df_2020.iterrows():\n",
    "    t2 = row[\"date\"]\n",
    "    if t2 - t1 > max_diff:\n",
    "        max_diff_t = t1\n",
    "        max_diff = t2 - t1\n",
    "    t1 = t2\n",
    "print(max_diff_t)\n",
    "print(max_diff)"
   ]
  },
  {
   "cell_type": "markdown",
   "metadata": {},
   "source": [
    "How many weeks without running?"
   ]
  },
  {
   "cell_type": "code",
   "execution_count": null,
   "metadata": {},
   "outputs": [],
   "source": [
    "52 - df_2020[\"week\"].nunique()"
   ]
  },
  {
   "cell_type": "code",
   "execution_count": null,
   "metadata": {},
   "outputs": [],
   "source": []
  },
  {
   "cell_type": "code",
   "execution_count": null,
   "metadata": {},
   "outputs": [],
   "source": []
  },
  {
   "cell_type": "code",
   "execution_count": null,
   "metadata": {},
   "outputs": [],
   "source": []
  }
 ],
 "metadata": {
  "kernelspec": {
   "display_name": "Python 3",
   "language": "python",
   "name": "python3"
  },
  "language_info": {
   "codemirror_mode": {
    "name": "ipython",
    "version": 3
   },
   "file_extension": ".py",
   "mimetype": "text/x-python",
   "name": "python",
   "nbconvert_exporter": "python",
   "pygments_lexer": "ipython3",
   "version": "3.8.5"
  }
 },
 "nbformat": 4,
 "nbformat_minor": 4
}
