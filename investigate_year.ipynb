{
 "cells": [
  {
   "cell_type": "code",
   "execution_count": null,
   "metadata": {},
   "outputs": [],
   "source": [
    "import matplotlib.pyplot as plt\n",
    "import transform\n",
    "import request\n",
    "import datetime"
   ]
  },
  {
   "cell_type": "code",
   "execution_count": null,
   "metadata": {},
   "outputs": [],
   "source": [
    "start_date_2018 = datetime.datetime(2018, 1, 1).isoformat() + 'Z'\n",
    "stop_date_2018 = datetime.datetime(2018, 12, 31).isoformat() + 'Z'\n",
    "start_date_2019 = datetime.datetime(2019, 1, 1).isoformat() + 'Z'\n",
    "stop_date_2019 = datetime.datetime(2019, 12, 31).isoformat() + 'Z'\n",
    "start_date_2020 = datetime.datetime(2020, 1, 1).isoformat() + 'Z'\n",
    "stop_date_2020 = datetime.datetime.utcnow().isoformat() + 'Z'"
   ]
  },
  {
   "cell_type": "code",
   "execution_count": null,
   "metadata": {},
   "outputs": [],
   "source": [
    "df_2018 = transform.get_dataframe(request.get_filtered_events(\n",
    "    start_date_2018, stop_date_2018, \"summary\"))\n",
    "df_2019 = transform.get_dataframe(request.get_filtered_events(\n",
    "    start_date_2019, stop_date_2019, \"summary\"))\n",
    "df_2020 = transform.get_dataframe(request.get_filtered_events(\n",
    "    start_date_2020, stop_date_2020, \"summary\"))"
   ]
  },
  {
   "cell_type": "code",
   "execution_count": null,
   "metadata": {},
   "outputs": [],
   "source": [
    "df_2020"
   ]
  },
  {
   "cell_type": "markdown",
   "metadata": {},
   "source": [
    "Overall distance"
   ]
  },
  {
   "cell_type": "code",
   "execution_count": null,
   "metadata": {
    "scrolled": true
   },
   "outputs": [],
   "source": [
    "print(df_2020.sum()[\"distance\"])\n",
    "print(df_2019.sum()[\"distance\"])\n",
    "print(df_2018.sum()[\"distance\"])"
   ]
  },
  {
   "cell_type": "markdown",
   "metadata": {},
   "source": [
    "Average distance"
   ]
  },
  {
   "cell_type": "code",
   "execution_count": null,
   "metadata": {},
   "outputs": [],
   "source": [
    "print(df_2020.mean()[\"distance\"])\n",
    "print(df_2019.mean()[\"distance\"])\n",
    "print(df_2018.mean()[\"distance\"])"
   ]
  },
  {
   "cell_type": "markdown",
   "metadata": {},
   "source": [
    "Longest runs"
   ]
  },
  {
   "cell_type": "code",
   "execution_count": null,
   "metadata": {},
   "outputs": [],
   "source": [
    "df_2020.sort_values(by=[\"distance\"], ascending=False)[\"distance\"][:10]"
   ]
  },
  {
   "cell_type": "markdown",
   "metadata": {},
   "source": [
    "Daily performance"
   ]
  },
  {
   "cell_type": "code",
   "execution_count": null,
   "metadata": {},
   "outputs": [],
   "source": [
    "fig, ax = plt.subplots()\n",
    "df_2020.plot.scatter(\"date\", \"distance\", ax=ax)"
   ]
  },
  {
   "cell_type": "code",
   "execution_count": null,
   "metadata": {},
   "outputs": [],
   "source": [
    "fig.savefig(\"2020_individual_runs.png\")"
   ]
  },
  {
   "cell_type": "code",
   "execution_count": null,
   "metadata": {},
   "outputs": [],
   "source": [
    "fig, ax = plt.subplots()\n",
    "df_2020.hist(\"distance\", ax=ax)\n",
    "percentages = [.05, .25, .5, .75, .95]\n",
    "for percentage in percentages:\n",
    "    percentile = df_2020[\"distance\"].quantile(percentage)\n",
    "    ax.axvline(percentile, linestyle = \":\", color=\"yellow\")\n",
    "    ax.text(percentile+.1, 1, f\"{int(percentage*100)}%\", size = 12, alpha = 0.8, color=\"yellow\")\n",
    "ax.grid(False)\n",
    "ax.set_xlabel(\"distance [km]\")\n",
    "ax.set_ylabel(\"number of occurrences\")\n",
    "ax.set_title(\"Histogram of running distances with selected percentiles.\")"
   ]
  },
  {
   "cell_type": "code",
   "execution_count": null,
   "metadata": {},
   "outputs": [],
   "source": [
    "fig.savefig(\"run_histogram.png\")"
   ]
  },
  {
   "cell_type": "markdown",
   "metadata": {},
   "source": [
    "Monthly performance"
   ]
  },
  {
   "cell_type": "code",
   "execution_count": null,
   "metadata": {
    "scrolled": true
   },
   "outputs": [],
   "source": [
    "df_2020.groupby(\"month\").sum()[\"distance\"]"
   ]
  },
  {
   "cell_type": "code",
   "execution_count": null,
   "metadata": {},
   "outputs": [],
   "source": [
    "fig, ax = plt.subplots()\n",
    "df_2020.groupby([\"month\"], as_index=False)[\"distance\"].sum().plot(\n",
    "    x=\"month\", y=\"distance\", kind=\"scatter\", ax=ax, color=\"b\", label=\"2020\")\n",
    "df_2019.groupby([\"month\"], as_index=False)[\"distance\"].sum().plot(\n",
    "    x=\"month\", y=\"distance\", kind=\"scatter\", ax=ax, color=\"r\", label=\"2019\")\n",
    "df_2018.groupby([\"month\"], as_index=False)[\"distance\"].sum().plot(\n",
    "    x=\"month\", y=\"distance\", kind=\"scatter\", ax=ax, color=\"orange\", label=\"2018\")\n",
    "ax.legend()\n",
    "ax.set_title(\"Monthly distance\")\n",
    "ax.set_ylabel(\"distance [km]\")\n",
    "ax.set_xlabel(\"month\")"
   ]
  },
  {
   "cell_type": "code",
   "execution_count": null,
   "metadata": {},
   "outputs": [],
   "source": [
    "fig.savefig(\"monthly_distances.png\")"
   ]
  },
  {
   "cell_type": "code",
   "execution_count": null,
   "metadata": {},
   "outputs": [],
   "source": [
    "fig, ax = plt.subplots()\n",
    "labels = [\"2020\", \"2019\", \"2018\"]\n",
    "colors = [\"b\", \"r\", \"orange\"]\n",
    "distances = [\n",
    "    df_2020.groupby([\"month\"], as_index=False)[\"distance\"].sum()[\"distance\"],\n",
    "    df_2019.groupby([\"month\"], as_index=False)[\"distance\"].sum()[\"distance\"],\n",
    "    df_2018.groupby([\"month\"], as_index=False)[\"distance\"].sum()[\"distance\"],\n",
    "]\n",
    "ax.hist(distances, 5, density=True, label=labels, color=colors)\n",
    "ax.legend()\n",
    "ax.set_title(\"Empirical densities of monthly distances. #bins=5.\")\n",
    "ax.set_xlabel(\"distance [km]\")"
   ]
  },
  {
   "cell_type": "code",
   "execution_count": null,
   "metadata": {},
   "outputs": [],
   "source": [
    "fig.savefig(\"monthly_densities.png\")"
   ]
  },
  {
   "cell_type": "code",
   "execution_count": null,
   "metadata": {},
   "outputs": [],
   "source": [
    "fig, ax = plt.subplots()\n",
    "df_2020.groupby([\"month\"], as_index=False)[\"distance\"].mean().plot(\n",
    "    x=\"month\", y=\"distance\", kind=\"scatter\", ax=ax, color=\"b\", label=\"2020\")\n",
    "df_2019.groupby([\"month\"], as_index=False)[\"distance\"].mean().plot(\n",
    "    x=\"month\", y=\"distance\", kind=\"scatter\", ax=ax, color=\"r\", label=\"2019\")\n",
    "df_2018.groupby([\"month\"], as_index=False)[\"distance\"].mean().plot(\n",
    "    x=\"month\", y=\"distance\", kind=\"scatter\", ax=ax, color=\"orange\", label=\"2018\")\n",
    "ax.legend()\n",
    "ax.set_title(\"Average run distance per month.\")\n",
    "ax.set_ylabel(\"distance [km]\")\n",
    "ax.set_xlabel(\"month\")"
   ]
  },
  {
   "cell_type": "code",
   "execution_count": null,
   "metadata": {},
   "outputs": [],
   "source": [
    "fig.savefig(\"monthly_average_distances.png\")"
   ]
  },
  {
   "cell_type": "markdown",
   "metadata": {},
   "source": [
    "Weekly performances"
   ]
  },
  {
   "cell_type": "code",
   "execution_count": null,
   "metadata": {},
   "outputs": [],
   "source": [
    "fig, ax = plt.subplots()\n",
    "df_2020.groupby([\"week\"], as_index=False)[\"distance\"].sum().plot(x=\"week\", y=\"distance\", kind=\"scatter\", ax=ax)\n",
    "ax.set_ylabel(\"distance [km]\")"
   ]
  },
  {
   "cell_type": "code",
   "execution_count": null,
   "metadata": {},
   "outputs": [],
   "source": [
    "fig.savefig(\"weekly_distances.png\")"
   ]
  },
  {
   "cell_type": "code",
   "execution_count": null,
   "metadata": {},
   "outputs": [],
   "source": [
    "fig, ax = plt.subplots()\n",
    "df_2020.groupby([\"week\"], as_index=False)[\"distance\"].sum()[\"distance\"].plot.hist(bins=10, density=True, ax=ax)\n",
    "ax.set_xlabel(\"distance [km]\")\n",
    "ax.set_title(\"Empirical densities of weekly distances. #bins=10.\")"
   ]
  },
  {
   "cell_type": "code",
   "execution_count": null,
   "metadata": {},
   "outputs": [],
   "source": [
    "fig.savefig(\"weekly_distances_histogram.png\")"
   ]
  },
  {
   "cell_type": "markdown",
   "metadata": {},
   "source": [
    "Longest duration between two runs"
   ]
  },
  {
   "cell_type": "code",
   "execution_count": null,
   "metadata": {},
   "outputs": [],
   "source": [
    "df_2020.sort_values(by=[\"date\"])\n",
    "t1 = df_2020[\"date\"][0]\n",
    "max_diff = t1 - t1\n",
    "max_diff_t = t1\n",
    "for index, row in df_2020.iterrows():\n",
    "    t2 = row[\"date\"]\n",
    "    if t2 - t1 > max_diff:\n",
    "        max_diff_t = t1\n",
    "        max_diff = t2 - t1\n",
    "    t1 = t2\n",
    "print(max_diff_t)\n",
    "print(max_diff)"
   ]
  },
  {
   "cell_type": "markdown",
   "metadata": {},
   "source": [
    "How many weeks without running?"
   ]
  },
  {
   "cell_type": "code",
   "execution_count": null,
   "metadata": {},
   "outputs": [],
   "source": [
    "52 - df_2020[\"week\"].nunique()"
   ]
  },
  {
   "cell_type": "code",
   "execution_count": null,
   "metadata": {},
   "outputs": [],
   "source": [
    "df_2020"
   ]
  },
  {
   "cell_type": "code",
   "execution_count": null,
   "metadata": {},
   "outputs": [],
   "source": [
    "day_numbers = df_2020['date'].dt.dayofyear.tolist()\n",
    "distances = df_2020['distance']\n",
    "missing_days = [day_number for day_number in range(1, 366) if day_number not in day_numbers]\n",
    "missing_distances = [0 for _ in missing_days]\n",
    "daily_distances = list(zip(day_numbers, distances)) + list(zip(missing_days, missing_distances))\n",
    "daily_distances.sort()\n",
    "daily_distances = [distance for _, distance in daily_distances]"
   ]
  },
  {
   "cell_type": "code",
   "execution_count": null,
   "metadata": {},
   "outputs": [],
   "source": [
    "def get_max(numbers, window_size):\n",
    "    current_left_pointer = 0\n",
    "    current_value = sum(numbers[current_left_pointer : current_left_pointer + window_size])\n",
    "    max_left_pointer = current_left_pointer\n",
    "    max_value = current_value\n",
    "\n",
    "    for current_left_pointer in range(1, len(numbers) - window_size + 1):\n",
    "        current_value -= numbers[current_left_pointer - 1]\n",
    "        current_value += numbers[current_left_pointer + window_size - 1]\n",
    "        if current_value > max_value:\n",
    "            max_value = current_value\n",
    "            max_left_pointer = current_left_pointer\n",
    "\n",
    "    return max_value, max_left_pointer"
   ]
  },
  {
   "cell_type": "code",
   "execution_count": null,
   "metadata": {},
   "outputs": [],
   "source": [
    "window_sizes = list(range(1, 22))\n",
    "max_sums = list(map(lambda window_size: get_max(daily_distances, window_size)[0], window_sizes))"
   ]
  },
  {
   "cell_type": "code",
   "execution_count": null,
   "metadata": {},
   "outputs": [],
   "source": [
    "fig, ax = plt.subplots()\n",
    "ax.scatter(window_sizes, max_sums)\n",
    "ax.set_title(\"Max distance run in k consecutive days.\")\n",
    "ax.set_ylabel(\"Distance [km]\")\n",
    "ax.set_xlabel(\"Number of days\")"
   ]
  },
  {
   "cell_type": "code",
   "execution_count": null,
   "metadata": {},
   "outputs": [],
   "source": [
    "fig.savefig(\"max_window_distances.png\")"
   ]
  },
  {
   "cell_type": "code",
   "execution_count": null,
   "metadata": {},
   "outputs": [],
   "source": [
    "import importlib"
   ]
  },
  {
   "cell_type": "code",
   "execution_count": null,
   "metadata": {},
   "outputs": [],
   "source": [
    "importlib.reload(transform)"
   ]
  },
  {
   "cell_type": "code",
   "execution_count": null,
   "metadata": {},
   "outputs": [],
   "source": [
    "df_2020_all = transform.get_dataframe(request.get_filtered_events(\n",
    "    start_date_2020, stop_date_2020, \"color\"))\n",
    "len(df_2020) / len(df_2020_all)"
   ]
  },
  {
   "cell_type": "code",
   "execution_count": null,
   "metadata": {},
   "outputs": [],
   "source": [
    "df_2019_all = transform.get_dataframe(request.get_filtered_events(\n",
    "    start_date_2019, stop_date_2019, \"color\"))\n",
    "len(df_2019) / len(df_2019_all)"
   ]
  },
  {
   "cell_type": "code",
   "execution_count": null,
   "metadata": {},
   "outputs": [],
   "source": [
    "df_2018_all = transform.get_dataframe(request.get_filtered_events(\n",
    "    start_date_2018, stop_date_2018, \"color\"))\n",
    "len(df_2018) / len(df_2018_all)"
   ]
  },
  {
   "cell_type": "code",
   "execution_count": null,
   "metadata": {},
   "outputs": [],
   "source": [
    "len(df_2020)"
   ]
  },
  {
   "cell_type": "code",
   "execution_count": null,
   "metadata": {},
   "outputs": [],
   "source": [
    "len(df_2019)"
   ]
  },
  {
   "cell_type": "code",
   "execution_count": null,
   "metadata": {},
   "outputs": [],
   "source": [
    "len(df_2018)"
   ]
  },
  {
   "cell_type": "code",
   "execution_count": null,
   "metadata": {},
   "outputs": [],
   "source": [
    "fig, ax = plt.subplots()\n",
    "df_2020[\"hour\"].plot.hist(bins=10, ax=ax)\n",
    "ax.set_xlabel(\"hour of the day\")\n",
    "ax.set_ylabel(\"number of occurrences\")\n",
    "ax.set_title(\"Histogram of runs by hours of the day. #bins=10\")"
   ]
  },
  {
   "cell_type": "code",
   "execution_count": null,
   "metadata": {},
   "outputs": [],
   "source": [
    "fig.savefig(\"hourly_distance_histogram.png\")"
   ]
  },
  {
   "cell_type": "code",
   "execution_count": null,
   "metadata": {},
   "outputs": [],
   "source": [
    "import seaborn as sns\n",
    "fig, ax = plt.subplots()\n",
    "ax = sns.boxplot(x=\"hour\", y=\"distance\", data=df_2020)\n",
    "ax.set_ylabel(\"distance [km]\")\n",
    "ax.set_xlabel(\"hour of the day\")\n",
    "ax.set_title(\"Empirical distributions of distances per hour. \")"
   ]
  },
  {
   "cell_type": "code",
   "execution_count": null,
   "metadata": {},
   "outputs": [],
   "source": [
    "ax.get_figure().savefig(\"hourly_distance_boxplot.png\")"
   ]
  }
 ],
 "metadata": {
  "kernelspec": {
   "display_name": "Python 3",
   "language": "python",
   "name": "python3"
  },
  "language_info": {
   "codemirror_mode": {
    "name": "ipython",
    "version": 3
   },
   "file_extension": ".py",
   "mimetype": "text/x-python",
   "name": "python",
   "nbconvert_exporter": "python",
   "pygments_lexer": "ipython3",
   "version": "3.8.5"
  }
 },
 "nbformat": 4,
 "nbformat_minor": 4
}
