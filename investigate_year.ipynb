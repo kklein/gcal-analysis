{
 "cells": [
  {
   "cell_type": "code",
   "execution_count": null,
   "metadata": {},
   "outputs": [],
   "source": [
    "import matplotlib.pyplot as plt\n",
    "import transform\n",
    "import request\n",
    "import datetime\n",
    "import seaborn as sns"
   ]
  },
  {
   "cell_type": "code",
   "execution_count": null,
   "metadata": {},
   "outputs": [],
   "source": [
    "colors = [\"c\", \"g\", \"r\", \"y\", \"m\", \"b\"]"
   ]
  },
  {
   "cell_type": "code",
   "execution_count": null,
   "metadata": {},
   "outputs": [],
   "source": [
    "years = [2018, 2019, 2020, 2021]\n",
    "current_year = 2021\n",
    "start_dates = {year: datetime.datetime(year, 1, 1).isoformat() + 'Z' for year in years}\n",
    "end_dates = {year: datetime.datetime(year, 12, 31).isoformat() + 'Z' for year in years}"
   ]
  },
  {
   "cell_type": "code",
   "execution_count": null,
   "metadata": {},
   "outputs": [],
   "source": [
    "dfs = {year: transform.get_dataframe(request.get_filtered_events(\n",
    "    start_dates[year], end_dates[year], \"summary\")) for year in years}"
   ]
  },
  {
   "cell_type": "code",
   "execution_count": null,
   "metadata": {},
   "outputs": [],
   "source": [
    "dfs[current_year]"
   ]
  },
  {
   "cell_type": "code",
   "execution_count": null,
   "metadata": {},
   "outputs": [],
   "source": [
    "def run_scatterplot(ax):\n",
    "    dfs[current_year].plot.scatter(\"date\", \"distance\", ax=ax)\n",
    "    ax.set_title(\"Distances of individual runs\")"
   ]
  },
  {
   "cell_type": "code",
   "execution_count": null,
   "metadata": {},
   "outputs": [],
   "source": [
    "def run_histogram_with_percentiles(ax):\n",
    "    dfs[current_year].hist(\"distance\", ax=ax)\n",
    "    percentages = [.05, .25, .5, .75, .95]\n",
    "    for percentage in percentages:\n",
    "        percentile = dfs[current_year][\"distance\"].quantile(percentage)\n",
    "        ax.axvline(percentile, linestyle = \":\", color=\"yellow\")\n",
    "        ax.text(percentile+.1, 1, f\"{int(percentage*100)}%\", size = 12, alpha = 0.8, color=\"yellow\")\n",
    "    ax.grid(False)\n",
    "    ax.set_xlabel(\"distance [km]\")\n",
    "    ax.set_ylabel(\"number of occurrences\")\n",
    "    ax.set_title(\"Histogram of running distances with selected percentiles.\")"
   ]
  },
  {
   "cell_type": "code",
   "execution_count": null,
   "metadata": {},
   "outputs": [],
   "source": [
    "def monthly_scatterplot(ax, n_years_back=2):\n",
    "    for offset in range(0, n_years_back + 1):\n",
    "        dfs[current_year - offset].groupby([\"month\"], as_index=False)[\"distance\"].sum().plot(\n",
    "            x=\"month\", y=\"distance\", kind=\"scatter\", ax=ax, color=colors[offset], label=current_year - offset)\n",
    "    ax.legend()\n",
    "    ax.set_title(\"Monthly distances across years\")\n",
    "    ax.set_ylabel(\"distance [km]\")\n",
    "    ax.set_xlabel(\"month\")"
   ]
  },
  {
   "cell_type": "code",
   "execution_count": null,
   "metadata": {},
   "outputs": [],
   "source": [
    "def monthly_histogram(ax, n_years_back=2):\n",
    "    labels = [current_year - offset for offset in range(0, n_years_back +1)]\n",
    "    distances = [\n",
    "        dfs[current_year - offset].groupby([\"month\"], as_index=False)[\"distance\"].sum()[\"distance\"]\n",
    "        for offset in range(0, n_years_back + 1)\n",
    "    ]\n",
    "    ax.hist(distances, 5, density=False, label=labels, color=colors[:(1+n_years_back)])\n",
    "    ax.legend()\n",
    "    ax.set_title(\"Histogram of monthly distances across years. #bins=5.\")\n",
    "    ax.set_xlabel(\"distance [km]\")"
   ]
  },
  {
   "cell_type": "code",
   "execution_count": null,
   "metadata": {},
   "outputs": [],
   "source": [
    "def monthly_avg_run_distance(ax, n_years_back=2):\n",
    "    for offset in range(0, n_years_back + 1):\n",
    "        dfs[current_year - offset].groupby([\"month\"], as_index=False)[\"distance\"].mean().plot(\n",
    "            x=\"month\", y=\"distance\", kind=\"scatter\", ax=ax, color=colors[offset], label=current_year - offset)\n",
    "    ax.legend()\n",
    "    ax.set_title(\"Average individual run distance per month.\")\n",
    "    ax.set_ylabel(\"distance [km]\")\n",
    "    ax.set_xlabel(\"month\")"
   ]
  },
  {
   "cell_type": "code",
   "execution_count": null,
   "metadata": {},
   "outputs": [],
   "source": [
    "def longest_duration_between_two_runs(year):\n",
    "    df_copy = dfs[year].copy()\n",
    "    df_copy.sort_values(by=[\"date\"])\n",
    "    t1 = df_copy[\"date\"][0]\n",
    "    max_diff = t1 - t1\n",
    "    max_diff_t = t1\n",
    "    for index, row in df_copy.iterrows():\n",
    "        t2 = row[\"date\"]\n",
    "        if t2 - t1 > max_diff:\n",
    "            max_diff_t = t1\n",
    "            max_diff = t2 - t1\n",
    "        t1 = t2\n",
    "    print(f\"The longest diference between two runs in {year} was: {max_diff}\")\n",
    "    print(f\"The gap started on: {max_diff_t}\")\n",
    "    return max_diff, max_diff_t"
   ]
  },
  {
   "cell_type": "code",
   "execution_count": null,
   "metadata": {},
   "outputs": [],
   "source": [
    "def n_weeks_without_running(year):\n",
    "    n_weeks = 52 - dfs[year][\"week\"].nunique()\n",
    "    print(f\"There have been {n_weeks} without running in {year}\")\n",
    "    return n_weeks"
   ]
  },
  {
   "cell_type": "code",
   "execution_count": null,
   "metadata": {},
   "outputs": [],
   "source": [
    "def max_distance_consecutive_days(ax, year, window_range=20):\n",
    "    day_numbers = dfs[year][\"date\"].dt.dayofyear.tolist()\n",
    "    distances = dfs[year][\"distance\"]\n",
    "    missing_days = [day_number for day_number in range(1, 366) if day_number not in day_numbers]\n",
    "    missing_distances = [0 for _ in missing_days]\n",
    "    daily_distances = list(zip(day_numbers, distances)) + list(zip(missing_days, missing_distances))\n",
    "    daily_distances.sort()\n",
    "    daily_distances = [distance for _, distance in daily_distances]\n",
    "    \n",
    "    def get_max(numbers, window_size):\n",
    "        current_left_pointer = 0\n",
    "        current_value = sum(numbers[current_left_pointer : current_left_pointer + window_size])\n",
    "        max_left_pointer = current_left_pointer\n",
    "        max_value = current_value\n",
    "\n",
    "        for current_left_pointer in range(1, len(numbers) - window_size + 1):\n",
    "            current_value -= numbers[current_left_pointer - 1]\n",
    "            current_value += numbers[current_left_pointer + window_size - 1]\n",
    "            if current_value > max_value:\n",
    "                max_value = current_value\n",
    "                max_left_pointer = current_left_pointer\n",
    "\n",
    "        return max_value, max_left_pointer\n",
    "    \n",
    "    window_sizes = list(range(1, window_range+1))\n",
    "    max_sums = list(map(lambda window_size: get_max(daily_distances, window_size)[0], window_sizes))\n",
    "    \n",
    "    ax.scatter(window_sizes, max_sums)\n",
    "    ax.set_title(\"Max distance run in k consecutive days.\")\n",
    "    ax.set_ylabel(\"Distance [km]\")\n",
    "    ax.set_xlabel(\"Number of days\")\n",
    "    \n",
    "    return max_sums"
   ]
  },
  {
   "cell_type": "code",
   "execution_count": null,
   "metadata": {},
   "outputs": [],
   "source": [
    "def running_fraction_among_exercise(year):\n",
    "    df_all = transform.get_dataframe(request.get_filtered_events(\n",
    "        start_dates[year], end_dates[year], \"color\")\n",
    "    )\n",
    "    running_fraction = len(dfs[year]) / len(df_all)\n",
    "    print(f\"In {year}, {running_fraction} of all activities were running.\")\n",
    "    return running_fraction"
   ]
  },
  {
   "cell_type": "code",
   "execution_count": null,
   "metadata": {},
   "outputs": [],
   "source": [
    "def histogram_runs_per_hour(ax, year, n_bins=10):\n",
    "    dfs[year][\"hour\"].plot.hist(bins=n_bins, ax=ax)\n",
    "    ax.set_xlabel(\"hour of the day\")\n",
    "    ax.set_ylabel(\"number of occurrences\")\n",
    "    ax.set_title(f\"Histogram of runs by hours of the day. #bins={n_bins}\")"
   ]
  },
  {
   "cell_type": "code",
   "execution_count": null,
   "metadata": {},
   "outputs": [],
   "source": [
    "def distribution_distance_per_hour(ax, year):\n",
    "    ax = sns.boxplot(x=\"hour\", y=\"distance\", data=dfs[year])\n",
    "    ax.set_ylabel(\"distance [km]\")\n",
    "    ax.set_xlabel(\"hour of the day\")\n",
    "    ax.set_title(\"Empirical distributions of distances per hour. \")"
   ]
  },
  {
   "cell_type": "markdown",
   "metadata": {},
   "source": [
    "# Analysis"
   ]
  },
  {
   "cell_type": "markdown",
   "metadata": {},
   "source": [
    "## Yearly performance"
   ]
  },
  {
   "cell_type": "markdown",
   "metadata": {},
   "source": [
    "Total distance"
   ]
  },
  {
   "cell_type": "code",
   "execution_count": null,
   "metadata": {
    "scrolled": true
   },
   "outputs": [],
   "source": [
    "for year in years:\n",
    "    print(f\"{year}: {dfs[year]['distance'].sum()}\")"
   ]
  },
  {
   "cell_type": "markdown",
   "metadata": {},
   "source": [
    "Average distance"
   ]
  },
  {
   "cell_type": "code",
   "execution_count": null,
   "metadata": {
    "scrolled": true
   },
   "outputs": [],
   "source": [
    "for year in years:\n",
    "    print(f\"{year}: {dfs[year]['distance'].mean()}\")"
   ]
  },
  {
   "cell_type": "markdown",
   "metadata": {},
   "source": [
    "Longest runs"
   ]
  },
  {
   "cell_type": "code",
   "execution_count": null,
   "metadata": {},
   "outputs": [],
   "source": [
    "dfs[current_year].sort_values(by=[\"distance\"], ascending=False)[\"distance\"][:10]"
   ]
  },
  {
   "cell_type": "markdown",
   "metadata": {},
   "source": [
    "Longest duration between two runs"
   ]
  },
  {
   "cell_type": "code",
   "execution_count": null,
   "metadata": {},
   "outputs": [],
   "source": [
    "longest_duration_between_two_runs(current_year)"
   ]
  },
  {
   "cell_type": "markdown",
   "metadata": {},
   "source": [
    "How many weeks without running?"
   ]
  },
  {
   "cell_type": "code",
   "execution_count": null,
   "metadata": {},
   "outputs": [],
   "source": [
    "n_weeks_without_running(current_year)"
   ]
  },
  {
   "cell_type": "markdown",
   "metadata": {},
   "source": [
    "Max distance in consecutive days"
   ]
  },
  {
   "cell_type": "code",
   "execution_count": null,
   "metadata": {},
   "outputs": [],
   "source": [
    "fig, ax = plt.subplots()\n",
    "max_distance_consecutive_days(ax, current_year, 25)"
   ]
  },
  {
   "cell_type": "markdown",
   "metadata": {},
   "source": [
    "Fraction of running among activities"
   ]
  },
  {
   "cell_type": "code",
   "execution_count": null,
   "metadata": {},
   "outputs": [],
   "source": [
    "for offset in range(0, 3):\n",
    "    running_fraction_among_exercise(current_year - offset)"
   ]
  },
  {
   "cell_type": "markdown",
   "metadata": {},
   "source": [
    "How many runs?"
   ]
  },
  {
   "cell_type": "code",
   "execution_count": null,
   "metadata": {},
   "outputs": [],
   "source": [
    "for offset in range(0, 3):\n",
    "    year = current_year - offset\n",
    "    print(f\"{year} had {len(dfs[year])} running activities.\")"
   ]
  },
  {
   "cell_type": "markdown",
   "metadata": {},
   "source": [
    "## Daily performance"
   ]
  },
  {
   "cell_type": "code",
   "execution_count": null,
   "metadata": {
    "scrolled": true
   },
   "outputs": [],
   "source": [
    "fig, ax = plt.subplots()\n",
    "run_scatterplot(ax)"
   ]
  },
  {
   "cell_type": "code",
   "execution_count": null,
   "metadata": {},
   "outputs": [],
   "source": [
    "fig, ax = plt.subplots()\n",
    "run_histogram_with_percentiles(ax)"
   ]
  },
  {
   "cell_type": "markdown",
   "metadata": {},
   "source": [
    "## Monthly performance"
   ]
  },
  {
   "cell_type": "code",
   "execution_count": null,
   "metadata": {
    "scrolled": true
   },
   "outputs": [],
   "source": [
    "dfs[current_year].groupby(\"month\")[\"distance\"].sum()"
   ]
  },
  {
   "cell_type": "code",
   "execution_count": null,
   "metadata": {},
   "outputs": [],
   "source": [
    "fig, ax = plt.subplots()\n",
    "monthly_scatterplot(ax, n_years_back=2)"
   ]
  },
  {
   "cell_type": "code",
   "execution_count": null,
   "metadata": {},
   "outputs": [],
   "source": [
    "fig, ax = plt.subplots()\n",
    "monthly_histogram(ax, n_years_back=2)"
   ]
  },
  {
   "cell_type": "code",
   "execution_count": null,
   "metadata": {},
   "outputs": [],
   "source": [
    "fig, ax = plt.subplots()\n",
    "monthly_avg_run_distance(ax, n_years_back=2)"
   ]
  },
  {
   "cell_type": "markdown",
   "metadata": {},
   "source": [
    "## Weekly performance"
   ]
  },
  {
   "cell_type": "code",
   "execution_count": null,
   "metadata": {},
   "outputs": [],
   "source": [
    "fig, ax = plt.subplots()\n",
    "dfs[current_year].groupby([\"week\"], as_index=False)[\"distance\"].sum().plot(\n",
    "    x=\"week\", y=\"distance\", kind=\"scatter\", ax=ax\n",
    ")\n",
    "ax.set_ylabel(\"distance [km]\")"
   ]
  },
  {
   "cell_type": "code",
   "execution_count": null,
   "metadata": {},
   "outputs": [],
   "source": [
    "fig, ax = plt.subplots()\n",
    "dfs[current_year].groupby([\"week\"], as_index=False)[\"distance\"].sum()[\"distance\"].plot.hist(\n",
    "    bins=10, density=False, ax=ax\n",
    ")\n",
    "ax.set_xlabel(\"distance [km]\")\n",
    "ax.set_title(\"Histogram of weekly distances. #bins=10.\")"
   ]
  },
  {
   "cell_type": "markdown",
   "metadata": {},
   "source": [
    "## Hourly performance"
   ]
  },
  {
   "cell_type": "code",
   "execution_count": null,
   "metadata": {},
   "outputs": [],
   "source": [
    "fig, ax = plt.subplots()\n",
    "histogram_runs_per_hour(ax, current_year, 10)"
   ]
  },
  {
   "cell_type": "code",
   "execution_count": null,
   "metadata": {},
   "outputs": [],
   "source": [
    "fig, ax = plt.subplots()\n",
    "distribution_distance_per_hour(ax, current_year)\n",
    "# ax.get_figure().savefig(\"hourly_distance_boxplot.png\")"
   ]
  },
  {
   "cell_type": "markdown",
   "metadata": {},
   "source": [
    "# Compilation"
   ]
  },
  {
   "cell_type": "code",
   "execution_count": null,
   "metadata": {},
   "outputs": [],
   "source": []
  }
 ],
 "metadata": {
  "kernelspec": {
   "display_name": "Python 3 (ipykernel)",
   "language": "python",
   "name": "python3"
  },
  "language_info": {
   "codemirror_mode": {
    "name": "ipython",
    "version": 3
   },
   "file_extension": ".py",
   "mimetype": "text/x-python",
   "name": "python",
   "nbconvert_exporter": "python",
   "pygments_lexer": "ipython3",
   "version": "3.10.1"
  }
 },
 "nbformat": 4,
 "nbformat_minor": 4
}
